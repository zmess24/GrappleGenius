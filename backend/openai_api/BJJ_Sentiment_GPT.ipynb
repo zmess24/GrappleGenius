{
 "cells": [
  {
   "cell_type": "markdown",
   "id": "27045a1a",
   "metadata": {},
   "source": [
    "# BJJ Sentiment Analyzer GPT\n",
    "\n",
    "The goal of this notebook is to create a fine-tuned versoin of the ChatGPT model that will analyze whether a YouTube video title is related to a BJJ instructional video or not by returning a boolean value. Previous attempts at prompt engineering yielded inconsistent results."
   ]
  },
  {
   "cell_type": "markdown",
   "id": "c52e494d",
   "metadata": {},
   "source": [
    "### 1. Setup"
   ]
  },
  {
   "cell_type": "code",
   "execution_count": 331,
   "id": "8fa6915a",
   "metadata": {},
   "outputs": [],
   "source": [
    "# Have ChatGPT Generate the initial labels\n",
    "import os\n",
    "from openai import OpenAI\n",
    "from dotenv import load_dotenv\n",
    "from googleapiclient.discovery import build\n",
    "from sklearn.metrics import classification_report, confusion_matrix\n",
    "load_dotenv()\n",
    "\n",
    "# Initialize YouTube API Client\n",
    "YOUTUBE_API_KEY = os.getenv(\"YOUTUBE_API_KEY\")\n",
    "youtube = build('youtube', 'v3', developerKey=YOUTUBE_API_KEY)\n",
    "\n",
    "# Initialize OpenAI API Client\n",
    "OPENAI_API_KEY = os.getenv(\"OPENAI_API_KEY\")\n",
    "client = OpenAI(api_key=API_KEY)"
   ]
  },
  {
   "cell_type": "markdown",
   "id": "97f0a9d9",
   "metadata": {},
   "source": [
    "### 2. Helper Methods"
   ]
  },
  {
   "cell_type": "code",
   "execution_count": 361,
   "id": "846c1d6c",
   "metadata": {},
   "outputs": [],
   "source": [
    "def yt_get_titles(query):\n",
    "    '''\n",
    "    This purposed of this function is to retrieve the top 10 results from the YouTube Search API\n",
    "    for every query given as an argument.\n",
    "    '''\n",
    "    titles = []\n",
    "    \n",
    "    print(f\"Getting Seach Results for {query}\")\n",
    "    youtube = build('youtube', 'v3', developerKey=YOUTUBE_API_KEY)\n",
    "    request = youtube.search().list(part='snippet', type='video', q=query, maxResults=10)\n",
    "    response = request.execute()\n",
    "    \n",
    "    for video in response[\"items\"]:\n",
    "        title = video[\"snippet\"][\"title\"].replace(\"&#39;\", \"'\").replace(\"&amp;\", '&')\n",
    "        titles.append({ \"prompt\": title, \"completion\": \"\" })\n",
    "    \n",
    "    return titles\n",
    "\n",
    "def yt_query_search_terms(search_terms, all_titles=[]):\n",
    "    '''\n",
    "    This functions purpose is to:\n",
    "        1. Iterate over every search term in the provided search term list.\n",
    "        2. For each term, grab the top 10 results from the 'get_titles' function.\n",
    "        3. Append them to the output 'all_titles' array and return once every term has been queried.\n",
    "    '''\n",
    "    current_query = search_terms.pop()\n",
    "    titles = get_titles(current_query)\n",
    "    all_titles = all_titles + titles\n",
    "    search_terms_left = len(search_terms)\n",
    "                           \n",
    "    if search_terms_left != 0: \n",
    "        return get_all_titles(search_terms, all_titles)\n",
    "    else:\n",
    "        return all_titles\n",
    "\n",
    "def openai_perform_request(messages, model=\"gpt-3.5-turbo\", validation=False):\n",
    "    print(\"Getting responses. This may take a few minutes...\")\n",
    "    predictions = []\n",
    "\n",
    "    for message in messages:\n",
    "        # Perform API Call\n",
    "        completion = client.chat.completions.create(\n",
    "              model=model,\n",
    "              messages=message[\"messages\"]\n",
    "        )\n",
    "        \n",
    "        response = completion.choices[0].message.content\n",
    "        \n",
    "        if validation == False:\n",
    "            assistant = { \"role\": \"assistant\", \"content\": response }\n",
    "            message[\"messages\"].append(assistant)\n",
    "        else:\n",
    "            y = 1 if response == \"True\" else 0\n",
    "            predictions.append(y)\n",
    "\n",
    "    print(\"Finished\")\n",
    "    return messages if validation == False else predictions\n",
    "    \n",
    "def print_accuracy_reports(predictions, labels):\n",
    "    print(\"Confusion Matrix:\")\n",
    "    print(\"\")\n",
    "    print(confusion_matrix(labels, predictions))\n",
    "    print(\"\")\n",
    "    print(\"Classification Report:\")\n",
    "    print(\"\")\n",
    "    print(classification_report(labels, predictions))"
   ]
  },
  {
   "cell_type": "markdown",
   "id": "020784a5",
   "metadata": {},
   "source": [
    "### 3. Collect & Create Dataset of Titles from YouTube"
   ]
  },
  {
   "cell_type": "code",
   "execution_count": null,
   "id": "bfd23adc",
   "metadata": {
    "scrolled": true
   },
   "outputs": [],
   "source": [
    "# Initialize list of search terms and array of video titles.\n",
    "search_terms = [\n",
    "    \"kimura trap attacks\", \n",
    "    \"ashi garami entries\", \n",
    "    \"bjj triangle escape\", \n",
    "    \"bjj americana\", \n",
    "    \"john danaher ankle lock\",\n",
    "    \"guillotine from turtle\",\n",
    "    \"darce choke\",\n",
    "    \"double leg takedown\",\n",
    "    \"b team\",\n",
    "    \"gordon ryan vs dillon danis\",\n",
    "    \"uchi mata judo\",\n",
    "    \"blast double leg takedown\",\n",
    "    \"arm drag to single leg takedown\",\n",
    "    \"ankle pick takedown\",\n",
    "    \"cross collar takedown\"\n",
    "]\n",
    "\n",
    "video_titles = yt_query_search_terms(search_terms)"
   ]
  },
  {
   "cell_type": "markdown",
   "id": "1ea7b059",
   "metadata": {},
   "source": [
    "### 4. Format and Split Data into Test & Training sets"
   ]
  },
  {
   "cell_type": "code",
   "execution_count": 294,
   "id": "62994ce4",
   "metadata": {},
   "outputs": [
    {
     "name": "stdout",
     "output_type": "stream",
     "text": [
      "Getting responses. This may take a few minutes...\n",
      "Finished\n"
     ]
    }
   ],
   "source": [
    "# Format into acceptable format for fine-tuning\n",
    "data = [];\n",
    "system_role = \"You are helpful sentiment analysis assistant whose sole purpose is to determine if the provided YouTube video titles are Brazilian Ju-Jitsu, Judo, or Wrestling instructionial videos. I only want you to give 'True' or 'False' answers with no additional information.\"\n",
    "\n",
    "for video in video_titles:\n",
    "    system = {\"role\": \"system\", \"content\": system_role }\n",
    "    user = {\"role\": \"user\", \"content\": video }\n",
    "    data.append({\"messages\": [system, user]})\n",
    "    \n",
    "# Use ChatGPT to generate initial label outputs\n",
    "data = openai_perform_request(data)"
   ]
  },
  {
   "cell_type": "code",
   "execution_count": 306,
   "id": "8f2318d8",
   "metadata": {},
   "outputs": [],
   "source": [
    "# Seperate into Train and Test and seperate into seperate JSONL files.\n",
    "import random \n",
    "import math\n",
    "import json\n",
    "\n",
    "random.shuffle(data)\n",
    "\n",
    "train_size = math.ceil(len(data) * 0.80)\n",
    "test_size = math.ceil(len(data) * 0.20)\n",
    "\n",
    "train_data = data[:120]\n",
    "test_data = data[(len(data) - test_size):]\n",
    "\n",
    "# Create train & test jsonl files.\n",
    "with open(\"data/test.jsonl\", \"w\") as file:\n",
    "    for line in test_data:\n",
    "        file.write(json.dumps(line))\n",
    "        file.write(\"\\n\")\n",
    "    file.close()\n",
    "    \n",
    "with open(\"data/train.jsonl\", \"w\") as file:\n",
    "    for line in train_data:\n",
    "        file.write(json.dumps(line))\n",
    "        file.write(\"\\n\")"
   ]
  },
  {
   "cell_type": "markdown",
   "id": "9a43f0e3",
   "metadata": {},
   "source": [
    "At this point, I have a cleanly seperated my test and training data. However, because I used ChatGPT to quickly create the initial labels, they may not be accurate. I will need to perform a manuel check and correcty where applicable"
   ]
  },
  {
   "cell_type": "markdown",
   "id": "1afdfb62",
   "metadata": {},
   "source": [
    "### 5. Fine-Tune ChatGPT Model"
   ]
  },
  {
   "cell_type": "code",
   "execution_count": 319,
   "id": "5aaf5c11",
   "metadata": {},
   "outputs": [
    {
     "data": {
      "text/plain": [
       "FileObject(id='file-VYonMe3i4o7J6arAINwUcGsO', bytes=52903, created_at=1702868720, filename='train.jsonl', object='file', purpose='fine-tune', status='processed', status_details=None)"
      ]
     },
     "execution_count": 319,
     "metadata": {},
     "output_type": "execute_result"
    }
   ],
   "source": [
    "# First, we need to upload our training data to OpenAI.\n",
    "client.files.create(\n",
    "  file=open(\"data/train.jsonl\", \"rb\"),\n",
    "  purpose=\"fine-tune\"\n",
    ")"
   ]
  },
  {
   "cell_type": "code",
   "execution_count": 323,
   "id": "2f7ffbdd",
   "metadata": {},
   "outputs": [
    {
     "data": {
      "text/plain": [
       "FineTuningJob(id='ftjob-p0ZHj0lWb2UPDvWsOcEjsCOT', created_at=1702869054, error=None, fine_tuned_model=None, finished_at=None, hyperparameters=Hyperparameters(n_epochs='auto', batch_size='auto', learning_rate_multiplier='auto'), model='gpt-3.5-turbo-0613', object='fine_tuning.job', organization_id='org-yL8oUKm7DmHq1u5AfS2zkJL7', result_files=[], status='validating_files', trained_tokens=None, training_file='file-VYonMe3i4o7J6arAINwUcGsO', validation_file=None)"
      ]
     },
     "execution_count": 323,
     "metadata": {},
     "output_type": "execute_result"
    }
   ],
   "source": [
    "# Second, we can start to fine tune a ChatGPT model.\n",
    "client.fine_tuning.jobs.create(\n",
    "    training_file=\"file-VYonMe3i4o7J6arAINwUcGsO\", \n",
    "    model=\"gpt-3.5-turbo\",\n",
    "    suffix=\"grapple-genius\"\n",
    "\n",
    ")"
   ]
  },
  {
   "cell_type": "code",
   "execution_count": 330,
   "id": "e9407597",
   "metadata": {},
   "outputs": [
    {
     "data": {
      "text/plain": [
       "FineTuningJob(id='ftjob-p0ZHj0lWb2UPDvWsOcEjsCOT', created_at=1702869054, error=None, fine_tuned_model='ft:gpt-3.5-turbo-0613:personal:grapple-genius:8WyX4haA', finished_at=1702869873, hyperparameters=Hyperparameters(n_epochs=3, batch_size=1, learning_rate_multiplier=2), model='gpt-3.5-turbo-0613', object='fine_tuning.job', organization_id='org-yL8oUKm7DmHq1u5AfS2zkJL7', result_files=['file-oDDKPJlZfDXTNwieTcaDOuoD'], status='succeeded', trained_tokens=28638, training_file='file-VYonMe3i4o7J6arAINwUcGsO', validation_file=None)"
      ]
     },
     "execution_count": 330,
     "metadata": {},
     "output_type": "execute_result"
    }
   ],
   "source": [
    "# Retrieve the state of a fine-tune\n",
    "client.fine_tuning.jobs.retrieve(\"ftjob-p0ZHj0lWb2UPDvWsOcEjsCOT\")"
   ]
  },
  {
   "cell_type": "markdown",
   "id": "7fab9a99",
   "metadata": {},
   "source": [
    "### 6. Validate & Measure Performance of Fine-Tuned Model "
   ]
  },
  {
   "cell_type": "code",
   "execution_count": 359,
   "id": "2bf6a693",
   "metadata": {},
   "outputs": [],
   "source": [
    "# Get Test Labels\n",
    "with open(\"data/test.jsonl\") as f:\n",
    "    test_data = [json.loads(line) for line in f]\n",
    "    f.close()\n",
    "\n",
    "y_test = []\n",
    "x_test = []\n",
    "\n",
    "for message in test_data:\n",
    "    y = 1 if message[\"messages\"][2][\"content\"] == \"True\" else 0\n",
    "    system = message[\"messages\"][0]\n",
    "    user = message[\"messages\"][1]\n",
    "    y_test.append(y)\n",
    "    x_test.append({ \"messages\": [system, user]})"
   ]
  },
  {
   "cell_type": "code",
   "execution_count": 362,
   "id": "3dc210a9",
   "metadata": {},
   "outputs": [
    {
     "name": "stdout",
     "output_type": "stream",
     "text": [
      "Getting responses. This may take a few minutes...\n",
      "Finished\n"
     ]
    }
   ],
   "source": [
    "# Evaluate fine-tuned GPT predictions against normal GPT predictions\n",
    "ft_predictions = openai_perform_request(x_test, \"ft:gpt-3.5-turbo-0613:personal:grapple-genius:8WyX4haA\", validation=True)\n",
    "norm_predictions = openai_perform_request(x_test, \"ft:gpt-3.5-turbo-0613:personal:grapple-genius:8WyX4haA\", validation=True)"
   ]
  },
  {
   "cell_type": "code",
   "execution_count": 365,
   "id": "d9614fb9",
   "metadata": {},
   "outputs": [
    {
     "name": "stdout",
     "output_type": "stream",
     "text": [
      "Confusion Matrix:\n",
      "\n",
      "[[ 5  2]\n",
      " [ 1 22]]\n",
      "\n",
      "Classification Report:\n",
      "\n",
      "              precision    recall  f1-score   support\n",
      "\n",
      "           0       0.83      0.71      0.77         7\n",
      "           1       0.92      0.96      0.94        23\n",
      "\n",
      "    accuracy                           0.90        30\n",
      "   macro avg       0.88      0.84      0.85        30\n",
      "weighted avg       0.90      0.90      0.90        30\n",
      "\n"
     ]
    }
   ],
   "source": [
    "print_accuracy_reports(predictions, y_test)"
   ]
  },
  {
   "cell_type": "code",
   "execution_count": null,
   "id": "1248a677",
   "metadata": {},
   "outputs": [],
   "source": []
  }
 ],
 "metadata": {
  "kernelspec": {
   "display_name": "Python 3 (ipykernel)",
   "language": "python",
   "name": "python3"
  },
  "language_info": {
   "codemirror_mode": {
    "name": "ipython",
    "version": 3
   },
   "file_extension": ".py",
   "mimetype": "text/x-python",
   "name": "python",
   "nbconvert_exporter": "python",
   "pygments_lexer": "ipython3",
   "version": "3.10.9"
  }
 },
 "nbformat": 4,
 "nbformat_minor": 5
}
