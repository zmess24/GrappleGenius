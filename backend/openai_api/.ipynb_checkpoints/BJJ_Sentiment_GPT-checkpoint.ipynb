{
 "cells": [
  {
   "cell_type": "markdown",
   "id": "27045a1a",
   "metadata": {},
   "source": [
    "# BJJ Sentiment Analyzer GPT\n",
    "\n",
    "The goal of this notebook is to create a fine-tuned versoin of the ChatGPT model that will analyze whether a YouTube video title is related to a BJJ instructional video or not by returning a boolean value. Previous attempts at prompt engineering yielded inconsistent results."
   ]
  },
  {
   "cell_type": "markdown",
   "id": "97d75d8b",
   "metadata": {},
   "source": [
    "### 1. Setup"
   ]
  },
  {
   "cell_type": "code",
   "execution_count": 331,
   "id": "5318c1ef",
   "metadata": {},
   "outputs": [],
   "source": [
    "# Have ChatGPT Generate the initial labels\n",
    "import os\n",
    "from openai import OpenAI\n",
    "from dotenv import load_dotenv\n",
    "from googleapiclient.discovery import build\n",
    "from sklearn.metrics import classification_report, confusion_matrix\n",
    "load_dotenv()\n",
    "\n",
    "# Initialize YouTube API Client\n",
    "YOUTUBE_API_KEY = os.getenv(\"YOUTUBE_API_KEY\")\n",
    "youtube = build('youtube', 'v3', developerKey=YOUTUBE_API_KEY)\n",
    "\n",
    "# Initialize OpenAI API Client\n",
    "OPENAI_API_KEY = os.getenv(\"OPENAI_API_KEY\")\n",
    "client = OpenAI(api_key=API_KEY)"
   ]
  },
  {
   "cell_type": "markdown",
   "id": "66f72e21",
   "metadata": {},
   "source": [
    "### 2. Helper Methods"
   ]
  },
  {
   "cell_type": "code",
   "execution_count": 361,
   "id": "7ec648ef",
   "metadata": {},
   "outputs": [],
   "source": [
    "def yt_get_titles(query):\n",
    "    '''\n",
    "    This purposed of this function is to retrieve the top 10 results from the YouTube Search API\n",
    "    for every query given as an argument.\n",
    "    '''\n",
    "    titles = []\n",
    "    \n",
    "    print(f\"Getting Seach Results for {query}\")\n",
    "    youtube = build('youtube', 'v3', developerKey=YOUTUBE_API_KEY)\n",
    "    request = youtube.search().list(part='snippet', type='video', q=query, maxResults=10)\n",
    "    response = request.execute()\n",
    "    \n",
    "    for video in response[\"items\"]:\n",
    "        title = video[\"snippet\"][\"title\"].replace(\"&#39;\", \"'\").replace(\"&amp;\", '&')\n",
    "        titles.append({ \"prompt\": title, \"completion\": \"\" })\n",
    "    \n",
    "    return titles\n",
    "\n",
    "def yt_query_search_terms(search_terms, all_titles=[]):\n",
    "    '''\n",
    "    This functions purpose is to:\n",
    "        1. Iterate over every search term in the provided search term list.\n",
    "        2. For each term, grab the top 10 results from the 'get_titles' function.\n",
    "        3. Append them to the output 'all_titles' array and return once every term has been queried.\n",
    "    '''\n",
    "    current_query = search_terms.pop()\n",
    "    titles = get_titles(current_query)\n",
    "    all_titles = all_titles + titles\n",
    "    search_terms_left = len(search_terms)\n",
    "                           \n",
    "    if search_terms_left != 0: \n",
    "        return get_all_titles(search_terms, all_titles)\n",
    "    else:\n",
    "        return all_titles\n",
    "\n",
    "def openai_perform_request(messages, model=\"gpt-3.5-turbo\", validation=False):\n",
    "    print(\"Getting responses. This may take a few minutes...\")\n",
    "    predictions = []\n",
    "\n",
    "    for message in messages:\n",
    "        # Perform API Call\n",
    "        completion = client.chat.completions.create(\n",
    "              model=model,\n",
    "              messages=message[\"messages\"]\n",
    "        )\n",
    "        \n",
    "        response = completion.choices[0].message.content\n",
    "        \n",
    "        if validation == False:\n",
    "            assistant = { \"role\": \"assistant\", \"content\": response }\n",
    "            message[\"messages\"].append(assistant)\n",
    "        else:\n",
    "            y = 1 if response == \"True\" else 0\n",
    "            predictions.append(y)\n",
    "\n",
    "    print(\"Finished\")\n",
    "    return messages if validation == False else predictions\n",
    "    \n",
    "def print_accuracy_reports(predictions, labels):\n",
    "    print(\"Confusion Matrix:\")\n",
    "    print(\"\")\n",
    "    print(confusion_matrix(labels, predictions))\n",
    "    print(\"\")\n",
    "    print(\"Classification Report:\")\n",
    "    print(\"\")\n",
    "    print(classification_report(labels, predictions))"
   ]
  },
  {
   "cell_type": "markdown",
   "id": "020784a5",
   "metadata": {},
   "source": [
    "### 3. Collect & Create Dataset of Titles from YouTube"
   ]
  },
  {
   "cell_type": "code",
   "execution_count": null,
   "id": "bfd23adc",
   "metadata": {
    "scrolled": true
   },
   "outputs": [],
   "source": [
    "# Initialize list of search terms and array of video titles.\n",
    "search_terms = [\n",
    "    \"kimura trap attacks\", \n",
    "    \"ashi garami entries\", \n",
    "    \"bjj triangle escape\", \n",
    "    \"bjj americana\", \n",
    "    \"john danaher ankle lock\",\n",
    "    \"guillotine from turtle\",\n",
    "    \"darce choke\",\n",
    "    \"double leg takedown\",\n",
    "    \"b team\",\n",
    "    \"gordon ryan vs dillon danis\",\n",
    "    \"uchi mata judo\",\n",
    "    \"blast double leg takedown\",\n",
    "    \"arm drag to single leg takedown\",\n",
    "    \"ankle pick takedown\",\n",
    "    \"cross collar takedown\"\n",
    "]\n",
    "\n",
    "video_titles = yt_query_search_terms(search_terms)"
   ]
  },
  {
   "cell_type": "markdown",
   "id": "23ef9082",
   "metadata": {},
   "source": [
    "### 4. Format and Split Data into Test & Training sets"
   ]
  },
  {
   "cell_type": "code",
   "execution_count": 294,
   "id": "7332bc06",
   "metadata": {},
   "outputs": [
    {
     "name": "stdout",
     "output_type": "stream",
     "text": [
      "Getting responses. This may take a few minutes...\n",
      "Finished\n"
     ]
    }
   ],
   "source": [
    "# Format into acceptable format for fine-tuning\n",
    "data = [];\n",
    "system_role = \"You are helpful sentiment analysis assistant whose sole purpose is to determine if the provided YouTube video titles are Brazilian Ju-Jitsu, Judo, or Wrestling instructionial videos. I only want you to give 'True' or 'False' answers with no additional information.\"\n",
    "\n",
    "for video in video_titles:\n",
    "    system = {\"role\": \"system\", \"content\": system_role }\n",
    "    user = {\"role\": \"user\", \"content\": video }\n",
    "    data.append({\"messages\": [system, user]})\n",
    "    \n",
    "# Use ChatGPT to generate initial label outputs\n",
    "data = openai_perform_request(data)"
   ]
  },
  {
   "cell_type": "code",
   "execution_count": 306,
   "id": "d884023b",
   "metadata": {},
   "outputs": [],
   "source": [
    "# Seperate into Train and Test and seperate into seperate JSONL files.\n",
    "import random \n",
    "import math\n",
    "import json\n",
    "\n",
    "random.shuffle(data)\n",
    "\n",
    "train_size = math.ceil(len(data) * 0.80)\n",
    "test_size = math.ceil(len(data) * 0.20)\n",
    "\n",
    "train_data = data[:120]\n",
    "test_data = data[(len(data) - test_size):]\n",
    "\n",
    "# Create train & test jsonl files.\n",
    "with open(\"data/test.jsonl\", \"w\") as file:\n",
    "    for line in test_data:\n",
    "        file.write(json.dumps(line))\n",
    "        file.write(\"\\n\")\n",
    "    file.close()\n",
    "    \n",
    "with open(\"data/train.jsonl\", \"w\") as file:\n",
    "    for line in train_data:\n",
    "        file.write(json.dumps(line))\n",
    "        file.write(\"\\n\")"
   ]
  },
  {
   "cell_type": "markdown",
   "id": "95f2d7d7",
   "metadata": {},
   "source": [
    "At this point, I have a cleanly seperated my test and training data. However, because I used ChatGPT to quickly create the initial labels, they may not be accurate. I will need to perform a manuel check and correcty where applicable"
   ]
  },
  {
   "cell_type": "markdown",
   "id": "1afdfb62",
   "metadata": {},
   "source": [
    "### 5. Fine-Tune ChatGPT Model"
   ]
  },
  {
   "cell_type": "code",
   "execution_count": 319,
   "id": "5aaf5c11",
   "metadata": {},
   "outputs": [
    {
     "data": {
      "text/plain": [
       "FileObject(id='file-VYonMe3i4o7J6arAINwUcGsO', bytes=52903, created_at=1702868720, filename='train.jsonl', object='file', purpose='fine-tune', status='processed', status_details=None)"
      ]
     },
     "execution_count": 319,
     "metadata": {},
     "output_type": "execute_result"
    }
   ],
   "source": [
    "# First, we need to upload our training data to OpenAI.\n",
    "client.files.create(\n",
    "  file=open(\"data/train.jsonl\", \"rb\"),\n",
    "  purpose=\"fine-tune\"\n",
    ")"
   ]
  },
  {
   "cell_type": "code",
   "execution_count": 323,
   "id": "aa935bbc",
   "metadata": {},
   "outputs": [
    {
     "data": {
      "text/plain": [
       "FineTuningJob(id='ftjob-p0ZHj0lWb2UPDvWsOcEjsCOT', created_at=1702869054, error=None, fine_tuned_model=None, finished_at=None, hyperparameters=Hyperparameters(n_epochs='auto', batch_size='auto', learning_rate_multiplier='auto'), model='gpt-3.5-turbo-0613', object='fine_tuning.job', organization_id='org-yL8oUKm7DmHq1u5AfS2zkJL7', result_files=[], status='validating_files', trained_tokens=None, training_file='file-VYonMe3i4o7J6arAINwUcGsO', validation_file=None)"
      ]
     },
     "execution_count": 323,
     "metadata": {},
     "output_type": "execute_result"
    }
   ],
   "source": [
    "# Second, we can start to fine tune a ChatGPT model.\n",
    "client.fine_tuning.jobs.create(\n",
    "    training_file=\"file-VYonMe3i4o7J6arAINwUcGsO\", \n",
    "    model=\"gpt-3.5-turbo\",\n",
    "    suffix=\"grapple-genius\"\n",
    "\n",
    ")"
   ]
  },
  {
   "cell_type": "code",
   "execution_count": 330,
   "id": "d7782dfd",
   "metadata": {},
   "outputs": [
    {
     "data": {
      "text/plain": [
       "FineTuningJob(id='ftjob-p0ZHj0lWb2UPDvWsOcEjsCOT', created_at=1702869054, error=None, fine_tuned_model='ft:gpt-3.5-turbo-0613:personal:grapple-genius:8WyX4haA', finished_at=1702869873, hyperparameters=Hyperparameters(n_epochs=3, batch_size=1, learning_rate_multiplier=2), model='gpt-3.5-turbo-0613', object='fine_tuning.job', organization_id='org-yL8oUKm7DmHq1u5AfS2zkJL7', result_files=['file-oDDKPJlZfDXTNwieTcaDOuoD'], status='succeeded', trained_tokens=28638, training_file='file-VYonMe3i4o7J6arAINwUcGsO', validation_file=None)"
      ]
     },
     "execution_count": 330,
     "metadata": {},
     "output_type": "execute_result"
    }
   ],
   "source": [
    "# Retrieve the state of a fine-tune\n",
    "client.fine_tuning.jobs.retrieve(\"ftjob-p0ZHj0lWb2UPDvWsOcEjsCOT\")"
   ]
  },
  {
   "cell_type": "markdown",
   "id": "cf3e1668",
   "metadata": {},
   "source": [
    "### 6. Validate & Measure Performance of Fine-Tuned Model "
   ]
  },
  {
   "cell_type": "code",
   "execution_count": 359,
   "id": "1bf7b1f2",
   "metadata": {},
   "outputs": [],
   "source": [
    "# Get Test Labels\n",
    "with open(\"data/test.jsonl\") as f:\n",
    "    test_data = [json.loads(line) for line in f]\n",
    "    f.close()\n",
    "\n",
    "y_test = []\n",
    "x_test = []\n",
    "\n",
    "for message in test_data:\n",
    "    y = 1 if message[\"messages\"][2][\"content\"] == \"True\" else 0\n",
    "    system = message[\"messages\"][0]\n",
    "    user = message[\"messages\"][1]\n",
    "    y_test.append(y)\n",
    "    x_test.append({ \"messages\": [system, user]})"
   ]
  },
  {
   "cell_type": "code",
   "execution_count": 366,
   "id": "10951ef9",
   "metadata": {},
   "outputs": [
    {
     "name": "stdout",
     "output_type": "stream",
     "text": [
      "Getting responses. This may take a few minutes...\n",
      "Finished\n",
      "Getting responses. This may take a few minutes...\n",
      "Finished\n"
     ]
    }
   ],
   "source": [
    "# Evaluate fine-tuned GPT predictions against normal GPT predictions\n",
    "ft_predictions = openai_perform_request(x_test, \"ft:gpt-3.5-turbo-0613:personal:grapple-genius:8WyX4haA\", validation=True)\n",
    "norm_predictions = openai_perform_request(x_test, validation=True)"
   ]
  },
  {
   "cell_type": "code",
   "execution_count": 367,
   "id": "f02556a7",
   "metadata": {},
   "outputs": [
    {
     "name": "stdout",
     "output_type": "stream",
     "text": [
      "Fine-Tuned Metrics\n",
      "Confusion Matrix:\n",
      "\n",
      "[[ 5  2]\n",
      " [ 1 22]]\n",
      "\n",
      "Classification Report:\n",
      "\n",
      "              precision    recall  f1-score   support\n",
      "\n",
      "           0       0.83      0.71      0.77         7\n",
      "           1       0.92      0.96      0.94        23\n",
      "\n",
      "    accuracy                           0.90        30\n",
      "   macro avg       0.88      0.84      0.85        30\n",
      "weighted avg       0.90      0.90      0.90        30\n",
      "\n",
      "Normal Metrics\n",
      "Confusion Matrix:\n",
      "\n",
      "[[ 5  2]\n",
      " [ 8 15]]\n",
      "\n",
      "Classification Report:\n",
      "\n",
      "              precision    recall  f1-score   support\n",
      "\n",
      "           0       0.38      0.71      0.50         7\n",
      "           1       0.88      0.65      0.75        23\n",
      "\n",
      "    accuracy                           0.67        30\n",
      "   macro avg       0.63      0.68      0.62        30\n",
      "weighted avg       0.77      0.67      0.69        30\n",
      "\n"
     ]
    }
   ],
   "source": [
    "print(\"Fine-Tuned Metrics\")\n",
    "print_accuracy_reports(ft_predictions, y_test)\n",
    "print(\"Normal Metrics\")\n",
    "print_accuracy_reports(norm_predictions, y_test)"
   ]
  },
  {
   "cell_type": "code",
   "execution_count": 370,
   "id": "fcd4cfbd",
   "metadata": {},
   "outputs": [],
   "source": [
    "audio_file= open(\"../audio_english.mp3\", \"rb\")\n",
    "\n",
    "transcript = client.audio.transcriptions.create(\n",
    "    model=\"whisper-1\", \n",
    "    file=audio_file\n",
    ")"
   ]
  },
  {
   "cell_type": "code",
   "execution_count": 373,
   "id": "b55ddd42",
   "metadata": {},
   "outputs": [
    {
     "data": {
      "text/plain": [
       "\"So one of the things that happens a lot of times when some of my students that do primarily gi jiu jitsu, when they move over to the no gi they have trouble with the grips. The grips really you're just going to start using more hand grips and over hooks and under hooks. So I'm going to show you guys a triangle that you can set up with no gi. So we're going to start inside the guard. So we don't have collar grips or anything like that, so you have to learn how to use your over hooks, under hooks and all this stuff before no gi, which is going to be more applicable to say a fight situation or even a street situation. So here, basic posture, we're going to come under the hands, use our legs to pull in and we're going to get an over hook right here. And I want to, sometimes you can grip like this, we're actually going to go over top and we want to pinch the back of his tricep with the bend of our arm. Now, right here we're kind of holding him down, he's going to try to posture up and a lot of times this hand is going to go right here in your stomach to try to make some space and limp arm this out. So as soon as this hand touches your body, you're going to grip it, thumbs facing you and then lock your other hand over top and we'll get a little bit closer to the grips in just a second. From here, you've got great control of this person's arm. All we have to do now is just hip forward and throw it over top. Now, this is not a finished triangle. There's a ton of attacks from here, so even if you're not a great triangle guy, you can use this to set it up. I'm not the best triangle guy, but I love setting up on the platas and even arm bars from here. But, we're here, we're going to hip up, move the arm across. Now to finish, I don't want to just take my leg off and grab the head. I like to take my hand and grab the shin and grab the head at the same time too after I've gotten the arm across. From here, we can push off the mat, the hip, whatever you want to do, but we're going to cut our angle and we're going to finish the triangle. Now, a little trick to help you finish the triangle is don't just pull down and squeeze. Take your knee, okay, watch this here, instead of just pulling down, push your knee in towards your neck and see what it's doing to my foot? It's going out and now when we clamp down, you know, obviously he's not resisting. I can pull that if I need to, but when I'm just doing this technique, here, another thing, keep your foot pointed up so that you don't lock because if you lock over here and you have a good wrestler, if he extends and you lock your toe, something's going to pop. A lot of times this little muscle right here will get strained. So, foot's up, leg's out, we turn, pull, squeeze. And if you think about the space here, okay, the triangle choke, there's a triangle here between the legs, okay, we've got to close this gap somehow, okay? So we can either do that by trying to squeeze our knees together and using these little muscles here, or we can turn our leg out and then clamp down and now we're engaging the hamstring, which is going to be much stronger, okay, much more efficient use of the body. Let's give you a different angle, all right. So the guy's basic posture, he's posturing up, he's trying to set up his guard, uh, break. We go under and lock and get that overhook and again, I'll grab the hand here and keep him tight. When this other hand starts to push up, we're going to grab with the C-clamp grip, push it to the chest. I'm going to push it down as low as I can and this hand's going to go over top. And now you've got a, you've got a great grip on this arm. Try to really pull your arm away from me. I've got a good grip on it, okay, and so you can hang on to it. Now, to get this guy to sort of get backward, because right now he'll probably be in good position, okay, I'm going to pull him up because this doesn't feel good. This doesn't feel comfortable. It feels awkward. So as he sits back, we're going to push and throw. Now we've got a basic triangle lock here. Notice that the leg that's coming out under the armpit is over top. This is very important because if it's here, he straightens his body up, we lose our grip. Whereas here we have downward pressure to secure this, pinching our knees tight. Hip up, pull the arm across and we're working from this position. Now we're not quite there. Another option, so we can grab the shin and we can push and turn and finish. Another thing you can do, this is a little trick I was shown by a friend of mine, is to use sort of a ratcheting action. So think of a ratchet, okay, how it turns but never leaves contact of what it's trying to screw in, right? So it's the same thing. We're just going to extend and squeeze in. So if you watch, I'm here sliding, sliding, sliding, so I never lose full contact and now you're doing the same thing. Knee goes out, clamp down, pull the head, here. And again, obviously if it's a bigger dude, you might want to get at a little bit more of an angle, but a lot of times you don't even have to because even here, if you look at this face in the triangle, we can still get up here, push in, and it still removes the space there to finish this choke. So that's it. It's a triangle using the overhook grips from Guard with the no gi. Hope it helps.\""
      ]
     },
     "execution_count": 373,
     "metadata": {},
     "output_type": "execute_result"
    }
   ],
   "source": [
    "transcript.text"
   ]
  },
  {
   "cell_type": "code",
   "execution_count": null,
   "id": "6d603ec5",
   "metadata": {},
   "outputs": [],
   "source": []
  }
 ],
 "metadata": {
  "kernelspec": {
   "display_name": "Python 3 (ipykernel)",
   "language": "python",
   "name": "python3"
  },
  "language_info": {
   "codemirror_mode": {
    "name": "ipython",
    "version": 3
   },
   "file_extension": ".py",
   "mimetype": "text/x-python",
   "name": "python",
   "nbconvert_exporter": "python",
   "pygments_lexer": "ipython3",
   "version": "3.10.9"
  }
 },
 "nbformat": 4,
 "nbformat_minor": 5
}
